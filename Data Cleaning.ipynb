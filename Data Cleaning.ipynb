{
 "cells": [
  {
   "cell_type": "code",
   "execution_count": 1,
   "metadata": {},
   "outputs": [],
   "source": [
    "import pandas as pd"
   ]
  },
  {
   "cell_type": "code",
   "execution_count": 2,
   "metadata": {},
   "outputs": [
    {
     "name": "stdout",
     "output_type": "stream",
     "text": [
      "Data Cleaning.ipynb       README.md\r\n",
      "Data Visualization.ipynb  \u001b[34mzippedData\u001b[m\u001b[m/\r\n"
     ]
    }
   ],
   "source": [
    "ls"
   ]
  },
  {
   "cell_type": "code",
   "execution_count": 3,
   "metadata": {},
   "outputs": [
    {
     "name": "stdout",
     "output_type": "stream",
     "text": [
      "/Users/viviandang/code/Git Repositories/flatiron-project-1/zippedData\n"
     ]
    }
   ],
   "source": [
    "cd zippedData/"
   ]
  },
  {
   "cell_type": "code",
   "execution_count": 4,
   "metadata": {},
   "outputs": [],
   "source": [
    "#importing datasets\n",
    "movie_gross = pd.read_csv('bom.movie_gross.csv.gz')\n",
    "name_basics = pd.read_csv('imdb.name.basics.csv.gz')\n",
    "title_akas = pd.read_csv('imdb.title.akas.csv.gz')\n",
    "title_basics = pd.read_csv('imdb.title.basics.csv.gz')\n",
    "title_crew = pd.read_csv('imdb.title.crew.csv.gz')\n",
    "title_principles = pd.read_csv('imdb.title.principals.csv.gz')\n",
    "title_ratings = pd.read_csv('imdb.title.ratings.csv.gz')\n",
    "rt_movie_info = pd.read_csv('rt.movie_info.tsv.gz', sep='\\t')\n",
    "rt_reviews = pd.read_csv('rt.reviews.tsv.gz', sep='\\t', encoding = 'unicode_escape')\n",
    "tmdb_movies = pd.read_csv('tmdb.movies.csv.gz')\n",
    "movie_budgets = pd.read_csv('tn.movie_budgets.csv.gz')"
   ]
  },
  {
   "cell_type": "code",
   "execution_count": 5,
   "metadata": {},
   "outputs": [],
   "source": [
    "#creating main dataframe\n",
    "main_df = pd.DataFrame(movie_budgets['movie'])"
   ]
  },
  {
   "cell_type": "code",
   "execution_count": 6,
   "metadata": {},
   "outputs": [],
   "source": [
    "#creating columns\n",
    "main_df['Production Budget'] = movie_budgets['production_budget']\n",
    "main_df['Domestic Gross'] = movie_budgets['domestic_gross']\n",
    "main_df['Worldwide Gross'] = movie_budgets['worldwide_gross']"
   ]
  },
  {
   "cell_type": "code",
   "execution_count": 7,
   "metadata": {},
   "outputs": [],
   "source": [
    "#renaming column\n",
    "main_df = main_df.rename(columns={'movie':'Title'})\n",
    "title_basics = title_basics.rename(columns={'primary_title': 'Title'})"
   ]
  },
  {
   "cell_type": "code",
   "execution_count": 8,
   "metadata": {},
   "outputs": [],
   "source": [
    "#merging title_basics dataset with main dataframe\n",
    "main_df = pd.merge(main_df, title_basics, how='outer', on='Title')"
   ]
  },
  {
   "cell_type": "code",
   "execution_count": 9,
   "metadata": {},
   "outputs": [
    {
     "name": "stdout",
     "output_type": "stream",
     "text": [
      "<class 'pandas.core.frame.DataFrame'>\n",
      "Int64Index: 149759 entries, 0 to 149758\n",
      "Data columns (total 9 columns):\n",
      "Title                149759 non-null object\n",
      "Production Budget    7221 non-null object\n",
      "Domestic Gross       7221 non-null object\n",
      "Worldwide Gross      7221 non-null object\n",
      "tconst               146353 non-null object\n",
      "original_title       146332 non-null object\n",
      "start_year           146353 non-null float64\n",
      "runtime_minutes      114581 non-null float64\n",
      "genres               140940 non-null object\n",
      "dtypes: float64(2), object(7)\n",
      "memory usage: 11.4+ MB\n"
     ]
    }
   ],
   "source": [
    "main_df.info()"
   ]
  },
  {
   "cell_type": "code",
   "execution_count": 10,
   "metadata": {},
   "outputs": [],
   "source": [
    "#Shortening Dataset to only include first 3743 titles (the ones with data on budget & gross)\n",
    "main_df = main_df.head(3743)"
   ]
  },
  {
   "cell_type": "code",
   "execution_count": 11,
   "metadata": {},
   "outputs": [],
   "source": [
    "#dropping unneccessary columns\n",
    "main_df = main_df.drop(columns = ['tconst','original_title','start_year'])"
   ]
  },
  {
   "cell_type": "code",
   "execution_count": 12,
   "metadata": {},
   "outputs": [],
   "source": [
    "#dropping null values in genre\n",
    "main_df = main_df.dropna(subset=['genres'])"
   ]
  },
  {
   "cell_type": "code",
   "execution_count": 13,
   "metadata": {},
   "outputs": [],
   "source": [
    "#resetting index\n",
    "main_df = main_df.reset_index()"
   ]
  },
  {
   "cell_type": "code",
   "execution_count": 14,
   "metadata": {},
   "outputs": [],
   "source": [
<<<<<<< HEAD
    "#Taking '$' and ',' out \n",
    "main_df['Production Budget'] = main_df['Production Budget'].apply(lambda x: x.strip('$'))\n",
    "main_df['Domestic Gross'] = main_df['Domestic Gross'].apply(lambda x: x.strip('$'))\n",
    "main_df['Worldwide Gross'] = main_df['Worldwide Gross'].apply(lambda x: x.strip('$'))\n",
    "main_df['Production Budget'] = main_df['Production Budget'].apply(lambda x: x.replace(',',''))\n",
    "main_df['Domestic Gross'] = main_df['Domestic Gross'].apply(lambda x: x.replace(',',''))\n",
    "main_df['Worldwide Gross'] = main_df['Worldwide Gross'].apply(lambda x: x.replace(',',''))"
=======
    "s"
   ]
  },
  {
   "cell_type": "code",
   "execution_count": 19,
   "metadata": {},
   "outputs": [
    {
     "data": {
      "text/html": [
       "<div>\n",
       "<style scoped>\n",
       "    .dataframe tbody tr th:only-of-type {\n",
       "        vertical-align: middle;\n",
       "    }\n",
       "\n",
       "    .dataframe tbody tr th {\n",
       "        vertical-align: top;\n",
       "    }\n",
       "\n",
       "    .dataframe thead th {\n",
       "        text-align: right;\n",
       "    }\n",
       "</style>\n",
       "<table border=\"1\" class=\"dataframe\">\n",
       "  <thead>\n",
       "    <tr style=\"text-align: right;\">\n",
       "      <th></th>\n",
       "      <th>Title</th>\n",
       "      <th>Production Budget</th>\n",
       "      <th>Domestic Gross</th>\n",
       "      <th>Worldwide Gross</th>\n",
       "      <th>runtime_minutes</th>\n",
       "      <th>genres</th>\n",
       "    </tr>\n",
       "  </thead>\n",
       "  <tbody>\n",
       "    <tr>\n",
       "      <td>0</td>\n",
       "      <td>Avatar</td>\n",
       "      <td>$425,000,000</td>\n",
       "      <td>$760,507,625</td>\n",
       "      <td>$2,776,345,279</td>\n",
       "      <td>93.0</td>\n",
       "      <td>Horror</td>\n",
       "    </tr>\n",
       "    <tr>\n",
       "      <td>1</td>\n",
       "      <td>Pirates of the Caribbean: On Stranger Tides</td>\n",
       "      <td>$410,600,000</td>\n",
       "      <td>$241,063,875</td>\n",
       "      <td>$1,045,663,875</td>\n",
       "      <td>136.0</td>\n",
       "      <td>Action,Adventure,Fantasy</td>\n",
       "    </tr>\n",
       "    <tr>\n",
       "      <td>2</td>\n",
       "      <td>Dark Phoenix</td>\n",
       "      <td>$350,000,000</td>\n",
       "      <td>$42,762,350</td>\n",
       "      <td>$149,762,350</td>\n",
       "      <td>113.0</td>\n",
       "      <td>Action,Adventure,Sci-Fi</td>\n",
       "    </tr>\n",
       "    <tr>\n",
       "      <td>3</td>\n",
       "      <td>Avengers: Age of Ultron</td>\n",
       "      <td>$330,600,000</td>\n",
       "      <td>$459,005,868</td>\n",
       "      <td>$1,403,013,963</td>\n",
       "      <td>141.0</td>\n",
       "      <td>Action,Adventure,Sci-Fi</td>\n",
       "    </tr>\n",
       "    <tr>\n",
       "      <td>4</td>\n",
       "      <td>Avengers: Infinity War</td>\n",
       "      <td>$300,000,000</td>\n",
       "      <td>$678,815,482</td>\n",
       "      <td>$2,048,134,200</td>\n",
       "      <td>149.0</td>\n",
       "      <td>Action,Adventure,Sci-Fi</td>\n",
       "    </tr>\n",
       "    <tr>\n",
       "      <td>...</td>\n",
       "      <td>...</td>\n",
       "      <td>...</td>\n",
       "      <td>...</td>\n",
       "      <td>...</td>\n",
       "      <td>...</td>\n",
       "      <td>...</td>\n",
       "    </tr>\n",
       "    <tr>\n",
       "      <td>2974</td>\n",
       "      <td>Annie Get Your Gun</td>\n",
       "      <td>$3,768,785</td>\n",
       "      <td>$8,000,000</td>\n",
       "      <td>$8,000,000</td>\n",
       "      <td>NaN</td>\n",
       "      <td>Crime</td>\n",
       "    </tr>\n",
       "    <tr>\n",
       "      <td>2975</td>\n",
       "      <td>Four Lions</td>\n",
       "      <td>$3,750,000</td>\n",
       "      <td>$310,007</td>\n",
       "      <td>$2,436,111</td>\n",
       "      <td>97.0</td>\n",
       "      <td>Comedy,Crime,Drama</td>\n",
       "    </tr>\n",
       "    <tr>\n",
       "      <td>2976</td>\n",
       "      <td>Truth or Dare</td>\n",
       "      <td>$3,500,000</td>\n",
       "      <td>$41,411,015</td>\n",
       "      <td>$95,127,344</td>\n",
       "      <td>85.0</td>\n",
       "      <td>Horror,Romance,Thriller</td>\n",
       "    </tr>\n",
       "    <tr>\n",
       "      <td>2982</td>\n",
       "      <td>Friday</td>\n",
       "      <td>$3,500,000</td>\n",
       "      <td>$27,467,564</td>\n",
       "      <td>$27,936,778</td>\n",
       "      <td>117.0</td>\n",
       "      <td>Family</td>\n",
       "    </tr>\n",
       "    <tr>\n",
       "      <td>2983</td>\n",
       "      <td>The Witch</td>\n",
       "      <td>$3,500,000</td>\n",
       "      <td>$25,138,705</td>\n",
       "      <td>$40,454,520</td>\n",
       "      <td>92.0</td>\n",
       "      <td>Horror,Mystery</td>\n",
       "    </tr>\n",
       "  </tbody>\n",
       "</table>\n",
       "<p>1813 rows × 6 columns</p>\n",
       "</div>"
      ],
      "text/plain": [
       "                                            Title Production Budget  \\\n",
       "0                                          Avatar      $425,000,000   \n",
       "1     Pirates of the Caribbean: On Stranger Tides      $410,600,000   \n",
       "2                                    Dark Phoenix      $350,000,000   \n",
       "3                         Avengers: Age of Ultron      $330,600,000   \n",
       "4                          Avengers: Infinity War      $300,000,000   \n",
       "...                                           ...               ...   \n",
       "2974                           Annie Get Your Gun        $3,768,785   \n",
       "2975                                   Four Lions        $3,750,000   \n",
       "2976                                Truth or Dare        $3,500,000   \n",
       "2982                                       Friday        $3,500,000   \n",
       "2983                                    The Witch        $3,500,000   \n",
       "\n",
       "     Domestic Gross Worldwide Gross  runtime_minutes                    genres  \n",
       "0      $760,507,625  $2,776,345,279             93.0                    Horror  \n",
       "1      $241,063,875  $1,045,663,875            136.0  Action,Adventure,Fantasy  \n",
       "2       $42,762,350    $149,762,350            113.0   Action,Adventure,Sci-Fi  \n",
       "3      $459,005,868  $1,403,013,963            141.0   Action,Adventure,Sci-Fi  \n",
       "4      $678,815,482  $2,048,134,200            149.0   Action,Adventure,Sci-Fi  \n",
       "...             ...             ...              ...                       ...  \n",
       "2974     $8,000,000      $8,000,000              NaN                     Crime  \n",
       "2975       $310,007      $2,436,111             97.0        Comedy,Crime,Drama  \n",
       "2976    $41,411,015     $95,127,344             85.0   Horror,Romance,Thriller  \n",
       "2982    $27,467,564     $27,936,778            117.0                    Family  \n",
       "2983    $25,138,705     $40,454,520             92.0            Horror,Mystery  \n",
       "\n",
       "[1813 rows x 6 columns]"
      ]
     },
     "execution_count": 19,
     "metadata": {},
     "output_type": "execute_result"
    }
   ],
   "source": [
    "main_df.drop_duplicates(subset=[\"Title\"], keep=\"first\")\n"
>>>>>>> 120af2a68e62ad3881a2182cf72816daad02aeeb
   ]
  },
  {
   "cell_type": "code",
   "execution_count": 15,
   "metadata": {},
   "outputs": [
    {
     "data": {
      "text/plain": [
       "array(['Horror', 'Action,Adventure,Fantasy', 'Action,Adventure,Sci-Fi',\n",
       "       'Action,Adventure,Thriller', 'Action,Thriller',\n",
       "       'Action,Adventure,Western', 'Adventure,Animation,Comedy',\n",
       "       'Adventure,Family,Fantasy', 'Adventure,Fantasy',\n",
       "       'Action,Crime,Thriller', 'Action,Adventure,Comedy',\n",
       "       'Action,Adventure,Drama', 'Action,Drama',\n",
       "       'Action,Adventure,History', 'Action,Adventure', 'Adventure',\n",
       "       'Family', 'Action,Adventure,Animation', 'Documentary',\n",
       "       'Fantasy,Musical', 'Action,Adventure,Horror', 'Drama,Romance',\n",
       "       'Comedy,Drama,Family', 'Drama', 'Drama,Mystery,Sci-Fi',\n",
       "       'Adventure,Comedy,Family', 'Fantasy', 'Action,Adventure,Family',\n",
       "       'Adventure,Drama,Family', 'Action,Horror,Sci-Fi', 'Action,Sci-Fi',\n",
       "       'Animation', 'Crime,Drama', 'Biography,Documentary,History',\n",
       "       'Adventure,Drama,Sci-Fi', 'Drama,Fantasy,Romance',\n",
       "       'Family,Fantasy,Musical', 'Action,Drama,History', 'Sci-Fi',\n",
       "       'Documentary,Drama,Sport', 'Adventure,Drama,Sport',\n",
       "       'Fantasy,Romance', 'Action,Drama,Fantasy', 'Comedy,Fantasy,Horror',\n",
       "       'Action,Drama,Thriller', 'Drama,Fantasy,Horror',\n",
       "       'Adventure,Animation,Family', 'Adventure,Animation,Drama',\n",
       "       'Action,Comedy,Fantasy', 'Action,Comedy',\n",
       "       'Action,Adventure,Biography', 'Thriller',\n",
       "       'Documentary,Drama,Family', 'Drama,Horror,Thriller',\n",
       "       'Biography,Documentary', 'Documentary,History',\n",
       "       'Documentary,Family', 'Animation,Documentary',\n",
       "       'Drama,Romance,Thriller', 'Drama,Family', 'Action,History,War',\n",
       "       'Comedy,Family,Fantasy', 'Action,Animation,Comedy',\n",
       "       'Action,Mystery,Thriller', 'Drama,Thriller',\n",
       "       'Animation,Documentary,Family', 'Action,Drama,Sci-Fi',\n",
       "       'Action,Adventure,Crime', 'Adventure,Mystery,Sci-Fi',\n",
       "       'Action,Adventure,Mystery', 'Action', 'Adventure,Drama,Fantasy',\n",
       "       'Action,Crime,Sci-Fi', 'Documentary,News', 'Documentary,Drama',\n",
       "       'Comedy', 'Comedy,Drama', 'Action,Sci-Fi,Thriller',\n",
       "       'Drama,Sci-Fi,Thriller', 'Action,Fantasy,War',\n",
       "       'Drama,Romance,Sci-Fi', 'Action,Comedy,Crime',\n",
       "       'Action,Drama,Family', 'Adventure,Sport', 'Action,Drama,Romance',\n",
       "       'Documentary,Thriller', 'Action,Drama,Mystery', 'Drama,Western',\n",
       "       'Comedy,Romance', 'Biography,Crime,Drama',\n",
       "       'Comedy,Documentary,Drama', 'Action,Crime,Sport',\n",
       "       'Horror,Sci-Fi,Thriller', 'Musical', 'Comedy,Fantasy',\n",
       "       'Drama,Family,Fantasy', 'Music', 'Comedy,Drama,Romance',\n",
       "       'Action,Crime', 'Adventure,Comedy,Drama', 'Drama,Mystery,Thriller',\n",
       "       'Crime,Drama,Mystery', 'Action,Comedy,Sci-Fi',\n",
       "       'Action,Adventure,Romance', 'Drama,History',\n",
       "       'Action,Family,Fantasy', 'Action,Crime,Fantasy', 'Adventure,Drama',\n",
       "       'Animation,Comedy,Family', 'Action,Comedy,Family',\n",
       "       'Drama,Fantasy,Musical', 'Documentary,Sport',\n",
       "       'Action,Comedy,Horror', 'Biography,Drama,Musical',\n",
       "       'Drama,Horror,Mystery', 'Biography,Documentary,Drama',\n",
       "       'Comedy,Mystery', 'Mystery,Thriller', 'Action,Drama,War',\n",
       "       'Comedy,Family,Romance', 'Horror,Thriller',\n",
       "       'Crime,Horror,Thriller', 'Romance', 'Crime,Mystery,Thriller',\n",
       "       'Biography,Drama', 'Action,Comedy,Romance', 'Action,Crime,Drama',\n",
       "       'Comedy,Drama,History', 'Mystery,Sci-Fi,Thriller', 'Crime',\n",
       "       'Adventure,Biography,Documentary', 'Biography,Drama,Thriller',\n",
       "       'Drama,History,War', 'Crime,Drama,Thriller', 'Drama,Horror',\n",
       "       'Action,Thriller,War', 'Action,Mystery,Sci-Fi',\n",
       "       'Action,Animation,Fantasy', 'Comedy,Drama,Musical',\n",
       "       'Action,Crime,Mystery', 'Crime,Documentary,Drama', 'Drama,Sci-Fi',\n",
       "       'Action,Fantasy,Horror', 'Biography,Crime,Documentary', 'War',\n",
       "       'Comedy,Romance,Sci-Fi', 'Biography,Drama,History',\n",
       "       'Crime,Drama,Family', 'Biography,Drama,Sport', 'Adventure,Comedy',\n",
       "       'Comedy,Musical', 'Biography,Drama,Western', 'Comedy,Crime,Drama',\n",
       "       'Mystery', 'Biography,Drama,Romance', 'Crime,Thriller',\n",
       "       'Biography,Comedy,Drama', 'Action,Romance', 'Drama,Sport',\n",
       "       'Comedy,Western', 'Action,Biography,Drama',\n",
       "       'Action,Fantasy,Thriller', 'Fantasy,Horror',\n",
       "       'Biography,Drama,Music', 'Comedy,Crime,Romance',\n",
       "       'Action,Drama,Horror', 'Adventure,Comedy,Crime',\n",
       "       'Drama,Music,Musical', 'Horror,Mystery,Thriller',\n",
       "       'Adventure,Drama,Horror', 'Drama,Musical,Romance',\n",
       "       'Crime,Drama,Fantasy', 'Romance,Sci-Fi,Thriller',\n",
       "       'Action,Comedy,Drama', 'Action,Biography,Comedy', 'Comedy,Family',\n",
       "       'Adventure,Comedy,Fantasy', 'Crime,Drama,History',\n",
       "       'Biography,Documentary,Family', 'Adventure,Drama,Mystery',\n",
       "       'Adventure,Drama,Thriller', 'Biography,Documentary,Sport', 'Sport',\n",
       "       'Comedy,Drama,Thriller', 'Documentary,Fantasy,Mystery',\n",
       "       'Adventure,Drama,History', 'Drama,War', 'Comedy,Music',\n",
       "       'Animation,Fantasy,Musical', 'Animation,Family,Fantasy',\n",
       "       'Family,Fantasy', 'Animation,Drama,Fantasy', 'Action,Comedy,Sport',\n",
       "       'Fantasy,Horror,Mystery', 'Action,Fantasy,Western', 'Comedy,Crime',\n",
       "       'Drama,History,Thriller', 'Adventure,Comedy,Music',\n",
       "       'Horror,Mystery', 'Adventure,Comedy,Sci-Fi', 'Comedy,Drama,Sport',\n",
       "       'Comedy,Horror,Thriller', 'Biography,Drama,Family', 'Western',\n",
       "       'Drama,Horror,Sci-Fi', 'Drama,Family,Sport',\n",
       "       'Drama,Fantasy,Thriller', 'Action,Documentary',\n",
       "       'Horror,Mystery,Sci-Fi', 'Action,History', 'Drama,Family,Romance',\n",
       "       'Drama,Music', 'Documentary,Music', 'Comedy,Sci-Fi',\n",
       "       'Biography,Drama,War', 'Adventure,Biography,Drama',\n",
       "       'Adventure,Drama,Western', 'Adventure,Documentary,Drama',\n",
       "       'Crime,Drama,Horror', 'Sci-Fi,Thriller', 'Drama,Fantasy',\n",
       "       'Animation,Comedy,Drama', 'Fantasy,Thriller',\n",
       "       'Comedy,Romance,Sport', 'Documentary,Drama,War',\n",
       "       'Adventure,Comedy,Romance', 'Drama,Music,Romance',\n",
       "       'Comedy,Horror,Sci-Fi', 'Adventure,Documentary',\n",
       "       'Biography,Documentary,Music', 'Biography,Comedy,Documentary',\n",
       "       'Comedy,Horror,Romance', 'Comedy,Fantasy,Romance',\n",
       "       'Comedy,Crime,Thriller', 'Comedy,Horror',\n",
       "       'Adventure,Animation,Documentary', 'Adventure,Drama,Romance',\n",
       "       'Action,Sport', 'Action,Biography,Crime', 'Drama,History,Sport',\n",
       "       'Animation,Sci-Fi', 'Adventure,Documentary,Music',\n",
       "       'Comedy,Drama,Music', 'Action,Comedy,Mystery',\n",
       "       'Action,Adventure,Documentary', 'Action,Drama,Sport',\n",
       "       'Adventure,Fantasy,Mystery', 'Drama,Romance,War',\n",
       "       'Action,Horror,Mystery', 'Fantasy,Horror,Thriller',\n",
       "       'Action,Romance,Sport', 'Drama,Mystery',\n",
       "       'Adventure,Documentary,War', 'Drama,History,Romance',\n",
       "       'Action,Drama,Western', 'Biography,Drama,Mystery',\n",
       "       'Drama,Mystery,Romance', 'Adventure,Documentary,Sport',\n",
       "       'Drama,Music,Thriller', 'Family,Horror,Romance',\n",
       "       'Action,Romance,Thriller', 'Drama,Fantasy,Mystery',\n",
       "       'Comedy,Music,Romance', 'Drama,Fantasy,Sci-Fi',\n",
       "       'Action,Comedy,Documentary', 'Crime,Horror,Mystery',\n",
       "       'Documentary,Western', 'Comedy,Mystery,Sci-Fi',\n",
       "       'Comedy,Mystery,Thriller', 'Comedy,Drama,Fantasy',\n",
       "       'Crime,Fantasy,Thriller', 'Comedy,Sport',\n",
       "       'Adventure,Documentary,History', 'Drama,Family,Music',\n",
       "       'Documentary,War', 'Comedy,Documentary', 'Action,Horror,Thriller',\n",
       "       'Animation,Drama', 'Adventure,Biography,Comedy',\n",
       "       'Horror,Music,Thriller', 'Comedy,Music,War',\n",
       "       'Documentary,History,Western', 'Adventure,Animation',\n",
       "       'Action,Documentary,Drama', 'Adventure,Family,Sci-Fi',\n",
       "       'Drama,Thriller,War', 'Biography,Comedy,Crime',\n",
       "       'Drama,Mystery,War', 'Comedy,Drama,Mystery',\n",
       "       'Documentary,Drama,News', 'Adventure,Crime,Drama',\n",
       "       'Family,Fantasy,Music', 'Drama,Fantasy,Music',\n",
       "       'Adventure,Horror,Sci-Fi', 'Adventure,Comedy,Horror', 'Biography',\n",
       "       'Drama,History,Mystery', 'Comedy,Horror,Mystery', 'Action,Horror',\n",
       "       'Biography,Family,Sport', 'Comedy,Drama,Horror',\n",
       "       'Drama,Family,Thriller', 'Horror,Romance',\n",
       "       'Documentary,History,Mystery', 'Comedy,Thriller',\n",
       "       'Adventure,Family', 'Crime,Mystery,Sci-Fi', 'Crime,Drama,Musical',\n",
       "       'Documentary,Sport,Thriller', 'Drama,Family,History',\n",
       "       'Fantasy,Horror,Sci-Fi', 'Adventure,Fantasy,Horror',\n",
       "       'Adventure,Horror,Mystery', 'Animation,Documentary,Sci-Fi',\n",
       "       'Animation,Horror', 'Crime,Drama,Romance', 'Drama,Musical',\n",
       "       'Animation,Family', 'Drama,Family,Mystery', 'Action,Crime,Horror',\n",
       "       'Adventure,Crime,Thriller', 'Horror,Romance,Thriller'],\n",
       "      dtype=object)"
      ]
     },
     "execution_count": 20,
     "metadata": {},
     "output_type": "execute_result"
    }
   ],
   "source": [
<<<<<<< HEAD
    "#Converting numbers from strings to floats\n",
    "main_df['Production Budget'] = main_df['Production Budget'].astype('int')\n",
    "main_df['Domestic Gross'] = main_df['Domestic Gross'].astype('int')\n",
    "main_df['Worldwide Gross'] = main_df['Worldwide Gross'].astype('int')"
=======
    "main_df.genres.unique()"
>>>>>>> 120af2a68e62ad3881a2182cf72816daad02aeeb
   ]
  },
  {
   "cell_type": "code",
   "execution_count": 16,
   "metadata": {},
   "outputs": [],
   "source": [
<<<<<<< HEAD
    "#Calculating Pofit\n",
    "main_df['Profit'] = main_df['Worldwide Gross'] - main_df['Production Budget']"
=======
    "# main_df['Worldwide Gross'] = main_df['Worldwide Gross'].replace({'$':''}, regex = True)"
>>>>>>> 120af2a68e62ad3881a2182cf72816daad02aeeb
   ]
  },
  {
   "cell_type": "code",
   "execution_count": 17,
   "metadata": {},
   "outputs": [],
   "source": [
    "#Adding ',' back in\n",
    "main_df['Profit'] = main_df['Profit'].apply(lambda x: format(x, '8,d'))\n",
    "main_df['Domestic Gross'] = main_df['Domestic Gross'].apply(lambda x: format(x, '8,d'))\n",
    "main_df['Production Budget'] = main_df['Production Budget'].apply(lambda x: format(x, '8,d'))"
   ]
  },
  {
   "cell_type": "code",
   "execution_count": 18,
   "metadata": {},
   "outputs": [],
   "source": [
    "#Correcting Avatar runtime\n",
    "main_df.loc[(main_df['Title'] == 'Avatar'), ['runtime_minutes']] = 162"
   ]
  },
  {
   "cell_type": "code",
   "execution_count": 19,
   "metadata": {},
   "outputs": [
    {
     "data": {
      "text/plain": [
       "Drama                           221\n",
       "Documentary                     132\n",
       "Comedy                           78\n",
       "Adventure,Animation,Comedy       72\n",
       "Action,Adventure,Sci-Fi          55\n",
       "                               ... \n",
       "Action,Adventure,Documentary      1\n",
       "Comedy,Sport                      1\n",
       "Drama,Fantasy,Thriller            1\n",
       "Adventure,Documentary,War         1\n",
       "Comedy,Drama,Thriller             1\n",
       "Name: genres, Length: 278, dtype: int64"
      ]
     },
     "execution_count": 19,
     "metadata": {},
     "output_type": "execute_result"
    }
   ],
   "source": [
    "main_df['genres'].value_counts()"
   ]
  }
 ],
 "metadata": {
  "kernelspec": {
   "display_name": "Python 3",
   "language": "python",
   "name": "python3"
  },
  "language_info": {
   "codemirror_mode": {
    "name": "ipython",
    "version": 3
   },
   "file_extension": ".py",
   "mimetype": "text/x-python",
   "name": "python",
   "nbconvert_exporter": "python",
   "pygments_lexer": "ipython3",
   "version": "3.7.4"
  }
 },
 "nbformat": 4,
 "nbformat_minor": 2
}
