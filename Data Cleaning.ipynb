{
 "cells": [
  {
   "cell_type": "code",
   "execution_count": 1,
   "metadata": {},
   "outputs": [],
   "source": [
    "import pandas as pd"
   ]
  },
  {
   "cell_type": "code",
   "execution_count": 2,
   "metadata": {},
   "outputs": [
    {
     "name": "stdout",
     "output_type": "stream",
     "text": [
      "Data Cleaning.ipynb       README.md\r\n",
      "Data Visualization.ipynb  \u001b[34mzippedData\u001b[m\u001b[m/\r\n"
     ]
    }
   ],
   "source": [
    "ls"
   ]
  },
  {
   "cell_type": "code",
   "execution_count": 3,
   "metadata": {},
   "outputs": [
    {
     "name": "stdout",
     "output_type": "stream",
     "text": [
      "/Users/josephmchugh/code/flatiron-project-1/zippedData\n"
     ]
    }
   ],
   "source": [
    "cd zippedData/"
   ]
  },
  {
   "cell_type": "code",
   "execution_count": 4,
   "metadata": {},
   "outputs": [],
   "source": [
    "#importing datasets\n",
    "movie_gross = pd.read_csv('bom.movie_gross.csv.gz')\n",
    "name_basics = pd.read_csv('imdb.name.basics.csv.gz')\n",
    "title_akas = pd.read_csv('imdb.title.akas.csv.gz')\n",
    "title_basics = pd.read_csv('imdb.title.basics.csv.gz')\n",
    "title_crew = pd.read_csv('imdb.title.crew.csv.gz')\n",
    "title_principles = pd.read_csv('imdb.title.principals.csv.gz')\n",
    "title_ratings = pd.read_csv('imdb.title.ratings.csv.gz')\n",
    "rt_movie_info = pd.read_csv('rt.movie_info.tsv.gz', sep='\\t')\n",
    "rt_reviews = pd.read_csv('rt.reviews.tsv.gz', sep='\\t', encoding = 'unicode_escape')\n",
    "tmdb_movies = pd.read_csv('tmdb.movies.csv.gz')\n",
    "movie_budgets = pd.read_csv('tn.movie_budgets.csv.gz')"
   ]
  },
  {
   "cell_type": "code",
   "execution_count": 5,
   "metadata": {},
   "outputs": [],
   "source": [
    "#creating main dataframe\n",
    "main_df = pd.DataFrame(movie_budgets['movie'])"
   ]
  },
  {
   "cell_type": "code",
   "execution_count": 6,
   "metadata": {},
   "outputs": [],
   "source": [
    "#creating columns\n",
    "main_df['Production Budget'] = movie_budgets['production_budget']\n",
    "main_df['Domestic Gross'] = movie_budgets['domestic_gross']\n",
    "main_df['Worldwide Gross'] = movie_budgets['worldwide_gross']"
   ]
  },
  {
   "cell_type": "code",
   "execution_count": 7,
   "metadata": {},
   "outputs": [],
   "source": [
    "#renaming column\n",
    "main_df = main_df.rename(columns={'movie':'Title'})\n",
    "title_basics = title_basics.rename(columns={'primary_title': 'Title'})"
   ]
  },
  {
   "cell_type": "code",
   "execution_count": 8,
   "metadata": {},
   "outputs": [],
   "source": [
    "#merging title_basics dataset with main dataframe\n",
    "main_df = pd.merge(main_df, title_basics, how='outer', on='Title')"
   ]
  },
  {
   "cell_type": "code",
   "execution_count": 9,
   "metadata": {},
   "outputs": [
    {
     "name": "stdout",
     "output_type": "stream",
     "text": [
      "<class 'pandas.core.frame.DataFrame'>\n",
      "Int64Index: 149759 entries, 0 to 149758\n",
      "Data columns (total 9 columns):\n",
      "Title                149759 non-null object\n",
      "Production Budget    7221 non-null object\n",
      "Domestic Gross       7221 non-null object\n",
      "Worldwide Gross      7221 non-null object\n",
      "tconst               146353 non-null object\n",
      "original_title       146332 non-null object\n",
      "start_year           146353 non-null float64\n",
      "runtime_minutes      114581 non-null float64\n",
      "genres               140940 non-null object\n",
      "dtypes: float64(2), object(7)\n",
      "memory usage: 11.4+ MB\n"
     ]
    }
   ],
   "source": [
    "main_df.info()"
   ]
  },
  {
   "cell_type": "code",
   "execution_count": 10,
   "metadata": {},
   "outputs": [],
   "source": [
    "#Shortening Dataset to only include first 3743 titles (the ones with data on budget & gross)\n",
    "main_df = main_df.head(3743)"
   ]
  },
  {
   "cell_type": "code",
   "execution_count": 11,
   "metadata": {},
   "outputs": [],
   "source": [
    "#dropping unneccessary columns\n",
    "main_df = main_df.drop(columns = ['tconst','original_title','start_year'])"
   ]
  },
  {
   "cell_type": "code",
   "execution_count": 12,
   "metadata": {},
   "outputs": [],
   "source": [
    "#dropping null values in genre\n",
    "main_df = main_df.dropna(subset=['genres'])"
   ]
  },
  {
   "cell_type": "code",
   "execution_count": 13,
   "metadata": {},
   "outputs": [],
   "source": [
    "#resetting index\n",
    "main_df = main_df.reset_index()"
   ]
  },
  {
   "cell_type": "code",
   "execution_count": 14,
   "metadata": {},
   "outputs": [],
   "source": [
    "#Taking '$' and ',' out \n",
    "main_df['Production Budget'] = main_df['Production Budget'].apply(lambda x: x.strip('$'))\n",
    "main_df['Domestic Gross'] = main_df['Domestic Gross'].apply(lambda x: x.strip('$'))\n",
    "main_df['Worldwide Gross'] = main_df['Worldwide Gross'].apply(lambda x: x.strip('$'))\n",
    "main_df['Production Budget'] = main_df['Production Budget'].apply(lambda x: x.replace(',',''))\n",
    "main_df['Domestic Gross'] = main_df['Domestic Gross'].apply(lambda x: x.replace(',',''))\n",
    "main_df['Worldwide Gross'] = main_df['Worldwide Gross'].apply(lambda x: x.replace(',',''))"
   ]
  },
  {
   "cell_type": "code",
   "execution_count": 15,
   "metadata": {},
   "outputs": [],
   "source": [
    "#Converting numbers from strings to floats\n",
    "main_df['Production Budget'] = main_df['Production Budget'].astype('int')\n",
    "main_df['Domestic Gross'] = main_df['Domestic Gross'].astype('int')\n",
    "main_df['Worldwide Gross'] = main_df['Worldwide Gross'].astype('int')"
   ]
  },
  {
   "cell_type": "code",
   "execution_count": 16,
   "metadata": {},
   "outputs": [],
   "source": [
    "#Calculating Pofit\n",
    "main_df['Profit'] = main_df['Worldwide Gross'] - main_df['Production Budget']"
   ]
  },
  {
   "cell_type": "code",
   "execution_count": 17,
   "metadata": {},
   "outputs": [],
   "source": [
    "#Adding ',' back in\n",
    "main_df['Profit'] = main_df['Profit'].apply(lambda x: format(x, '8,d'))\n",
    "main_df['Domestic Gross'] = main_df['Domestic Gross'].apply(lambda x: format(x, '8,d'))\n",
    "main_df['Production Budget'] = main_df['Production Budget'].apply(lambda x: format(x, '8,d'))"
   ]
  },
  {
   "cell_type": "code",
   "execution_count": 18,
   "metadata": {},
   "outputs": [],
   "source": [
    "#Correcting Avatar runtime\n",
    "main_df.loc[(main_df['Title'] == 'Avatar'), ['runtime_minutes']] = 162"
   ]
  },
  {
   "cell_type": "code",
   "execution_count": 19,
   "metadata": {},
   "outputs": [
    {
     "data": {
      "text/plain": [
       "Drama                           221\n",
       "Documentary                     132\n",
       "Comedy                           78\n",
       "Adventure,Animation,Comedy       72\n",
       "Action,Adventure,Sci-Fi          55\n",
       "                               ... \n",
       "Action,Adventure,Documentary      1\n",
       "Comedy,Sport                      1\n",
       "Drama,Fantasy,Thriller            1\n",
       "Adventure,Documentary,War         1\n",
       "Comedy,Drama,Thriller             1\n",
       "Name: genres, Length: 278, dtype: int64"
      ]
     },
     "execution_count": 19,
     "metadata": {},
     "output_type": "execute_result"
    }
   ],
   "source": [
    "main_df['genres'].value_counts()"
   ]
  }
 ],
 "metadata": {
  "kernelspec": {
   "display_name": "Python 3",
   "language": "python",
   "name": "python3"
  },
  "language_info": {
   "codemirror_mode": {
    "name": "ipython",
    "version": 3
   },
   "file_extension": ".py",
   "mimetype": "text/x-python",
   "name": "python",
   "nbconvert_exporter": "python",
   "pygments_lexer": "ipython3",
   "version": "3.7.4"
  }
 },
 "nbformat": 4,
 "nbformat_minor": 2
}
