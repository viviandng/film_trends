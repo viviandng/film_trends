{
 "cells": [
  {
   "cell_type": "code",
   "execution_count": 1,
   "metadata": {},
   "outputs": [],
   "source": [
    "import pandas as pd"
   ]
  },
  {
   "cell_type": "code",
   "execution_count": 2,
   "metadata": {},
   "outputs": [
    {
     "name": "stdout",
     "output_type": "stream",
     "text": [
      "Data Cleaning.ipynb       Joe_Data_Cleaning.ipynb   \u001b[34mzippedData\u001b[m\u001b[m/\n",
      "Data Visualization.ipynb  README.md\n"
     ]
    }
   ],
   "source": [
    "ls"
   ]
  },
  {
   "cell_type": "code",
   "execution_count": 3,
   "metadata": {},
   "outputs": [
    {
     "name": "stdout",
     "output_type": "stream",
     "text": [
      "/Users/josephmchugh/code/flatiron-project-1/zippedData\n"
     ]
    }
   ],
   "source": [
    "cd zippedData/"
   ]
  },
  {
   "cell_type": "code",
   "execution_count": 4,
   "metadata": {},
   "outputs": [],
   "source": [
    "#importing datasets\n",
    "movie_gross = pd.read_csv('bom.movie_gross.csv.gz')\n",
    "name_basics = pd.read_csv('imdb.name.basics.csv.gz')\n",
    "title_akas = pd.read_csv('imdb.title.akas.csv.gz')\n",
    "title_basics = pd.read_csv('imdb.title.basics.csv.gz')\n",
    "title_crew = pd.read_csv('imdb.title.crew.csv.gz')\n",
    "title_principles = pd.read_csv('imdb.title.principals.csv.gz')\n",
    "title_ratings = pd.read_csv('imdb.title.ratings.csv.gz')\n",
    "rt_movie_info = pd.read_csv('rt.movie_info.tsv.gz', sep='\\t')\n",
    "rt_reviews = pd.read_csv('rt.reviews.tsv.gz', sep='\\t', encoding = 'unicode_escape')\n",
    "tmdb_movies = pd.read_csv('tmdb.movies.csv.gz')\n",
    "movie_budgets = pd.read_csv('tn.movie_budgets.csv.gz')"
   ]
  },
  {
   "cell_type": "code",
   "execution_count": 5,
   "metadata": {},
   "outputs": [],
   "source": [
    "#creating main dataframe\n",
    "main_df = pd.DataFrame(movie_budgets['movie'])"
   ]
  },
  {
   "cell_type": "code",
   "execution_count": 6,
   "metadata": {},
   "outputs": [],
   "source": [
    "#populating main dataframe from 'movie_budgets' dataset\n",
    "main_df['Production Budget'] = movie_budgets['production_budget']\n",
    "main_df['Domestic Gross'] = movie_budgets['domestic_gross']\n",
    "main_df['Worldwide Gross'] = movie_budgets['worldwide_gross']"
   ]
  },
  {
   "cell_type": "code",
   "execution_count": 7,
   "metadata": {},
   "outputs": [],
   "source": [
    "#renaming columns\n",
    "main_df = main_df.rename(columns={'movie':'Title'})\n",
    "title_basics = title_basics.rename(columns={'primary_title': 'Title'})"
   ]
  },
  {
   "cell_type": "code",
   "execution_count": 8,
   "metadata": {},
   "outputs": [],
   "source": [
    "#merging 'title_baiscs' dataset with main dataframe\n",
    "main_df = pd.merge(main_df, title_basics, how='outer', on='Title')"
   ]
  },
  {
   "cell_type": "code",
   "execution_count": 9,
   "metadata": {},
   "outputs": [],
   "source": [
    "#trimming size of dataframe to first 5782 rows (number of rows with financial data)\n",
    "main_df = main_df.head(5782)"
   ]
  },
  {
   "cell_type": "code",
   "execution_count": 10,
   "metadata": {},
   "outputs": [],
   "source": [
    "#dropping uneccessary columns\n",
    "main_df = main_df.drop(columns = ['tconst','original_title','start_year'])"
   ]
  },
  {
   "cell_type": "code",
   "execution_count": 11,
   "metadata": {},
   "outputs": [],
   "source": [
    "#dropping null values from 'genres column'\n",
    "main_df = main_df.dropna(subset=['genres'])"
   ]
  },
  {
   "cell_type": "code",
   "execution_count": 12,
   "metadata": {},
   "outputs": [],
   "source": [
    "#resetting the index\n",
    "main_df = main_df.reset_index()"
   ]
  },
  {
   "cell_type": "code",
   "execution_count": 13,
   "metadata": {},
   "outputs": [],
   "source": [
    "#dropping old index \n",
    "main_df = main_df.drop(columns = ['index'])"
   ]
  },
  {
   "cell_type": "code",
   "execution_count": 14,
   "metadata": {},
   "outputs": [
    {
     "data": {
      "text/html": [
       "<div>\n",
       "<style scoped>\n",
       "    .dataframe tbody tr th:only-of-type {\n",
       "        vertical-align: middle;\n",
       "    }\n",
       "\n",
       "    .dataframe tbody tr th {\n",
       "        vertical-align: top;\n",
       "    }\n",
       "\n",
       "    .dataframe thead th {\n",
       "        text-align: right;\n",
       "    }\n",
       "</style>\n",
       "<table border=\"1\" class=\"dataframe\">\n",
       "  <thead>\n",
       "    <tr style=\"text-align: right;\">\n",
       "      <th></th>\n",
       "      <th>Title</th>\n",
       "      <th>Production Budget</th>\n",
       "      <th>Domestic Gross</th>\n",
       "      <th>Worldwide Gross</th>\n",
       "      <th>runtime_minutes</th>\n",
       "      <th>genres</th>\n",
       "    </tr>\n",
       "  </thead>\n",
       "  <tbody>\n",
       "    <tr>\n",
       "      <td>0</td>\n",
       "      <td>Avatar</td>\n",
       "      <td>$425,000,000</td>\n",
       "      <td>$760,507,625</td>\n",
       "      <td>$2,776,345,279</td>\n",
       "      <td>93.0</td>\n",
       "      <td>Horror</td>\n",
       "    </tr>\n",
       "    <tr>\n",
       "      <td>1</td>\n",
       "      <td>Pirates of the Caribbean: On Stranger Tides</td>\n",
       "      <td>$410,600,000</td>\n",
       "      <td>$241,063,875</td>\n",
       "      <td>$1,045,663,875</td>\n",
       "      <td>136.0</td>\n",
       "      <td>Action,Adventure,Fantasy</td>\n",
       "    </tr>\n",
       "    <tr>\n",
       "      <td>2</td>\n",
       "      <td>Dark Phoenix</td>\n",
       "      <td>$350,000,000</td>\n",
       "      <td>$42,762,350</td>\n",
       "      <td>$149,762,350</td>\n",
       "      <td>113.0</td>\n",
       "      <td>Action,Adventure,Sci-Fi</td>\n",
       "    </tr>\n",
       "    <tr>\n",
       "      <td>3</td>\n",
       "      <td>Avengers: Age of Ultron</td>\n",
       "      <td>$330,600,000</td>\n",
       "      <td>$459,005,868</td>\n",
       "      <td>$1,403,013,963</td>\n",
       "      <td>141.0</td>\n",
       "      <td>Action,Adventure,Sci-Fi</td>\n",
       "    </tr>\n",
       "    <tr>\n",
       "      <td>4</td>\n",
       "      <td>Avengers: Infinity War</td>\n",
       "      <td>$300,000,000</td>\n",
       "      <td>$678,815,482</td>\n",
       "      <td>$2,048,134,200</td>\n",
       "      <td>149.0</td>\n",
       "      <td>Action,Adventure,Sci-Fi</td>\n",
       "    </tr>\n",
       "    <tr>\n",
       "      <td>...</td>\n",
       "      <td>...</td>\n",
       "      <td>...</td>\n",
       "      <td>...</td>\n",
       "      <td>...</td>\n",
       "      <td>...</td>\n",
       "      <td>...</td>\n",
       "    </tr>\n",
       "    <tr>\n",
       "      <td>2979</td>\n",
       "      <td>Truth or Dare</td>\n",
       "      <td>$3,500,000</td>\n",
       "      <td>$41,411,015</td>\n",
       "      <td>$95,127,344</td>\n",
       "      <td>90.0</td>\n",
       "      <td>Drama,Romance</td>\n",
       "    </tr>\n",
       "    <tr>\n",
       "      <td>2980</td>\n",
       "      <td>Truth or Dare</td>\n",
       "      <td>$3,500,000</td>\n",
       "      <td>$41,411,015</td>\n",
       "      <td>$95,127,344</td>\n",
       "      <td>100.0</td>\n",
       "      <td>Horror,Thriller</td>\n",
       "    </tr>\n",
       "    <tr>\n",
       "      <td>2981</td>\n",
       "      <td>Truth or Dare</td>\n",
       "      <td>$3,500,000</td>\n",
       "      <td>$41,411,015</td>\n",
       "      <td>$95,127,344</td>\n",
       "      <td>92.0</td>\n",
       "      <td>Comedy,Drama,Romance</td>\n",
       "    </tr>\n",
       "    <tr>\n",
       "      <td>2982</td>\n",
       "      <td>Friday</td>\n",
       "      <td>$3,500,000</td>\n",
       "      <td>$27,467,564</td>\n",
       "      <td>$27,936,778</td>\n",
       "      <td>117.0</td>\n",
       "      <td>Family</td>\n",
       "    </tr>\n",
       "    <tr>\n",
       "      <td>2983</td>\n",
       "      <td>The Witch</td>\n",
       "      <td>$3,500,000</td>\n",
       "      <td>$25,138,705</td>\n",
       "      <td>$40,454,520</td>\n",
       "      <td>92.0</td>\n",
       "      <td>Horror,Mystery</td>\n",
       "    </tr>\n",
       "  </tbody>\n",
       "</table>\n",
       "<p>2984 rows × 6 columns</p>\n",
       "</div>"
      ],
      "text/plain": [
       "                                            Title Production Budget  \\\n",
       "0                                          Avatar      $425,000,000   \n",
       "1     Pirates of the Caribbean: On Stranger Tides      $410,600,000   \n",
       "2                                    Dark Phoenix      $350,000,000   \n",
       "3                         Avengers: Age of Ultron      $330,600,000   \n",
       "4                          Avengers: Infinity War      $300,000,000   \n",
       "...                                           ...               ...   \n",
       "2979                                Truth or Dare        $3,500,000   \n",
       "2980                                Truth or Dare        $3,500,000   \n",
       "2981                                Truth or Dare        $3,500,000   \n",
       "2982                                       Friday        $3,500,000   \n",
       "2983                                    The Witch        $3,500,000   \n",
       "\n",
       "     Domestic Gross Worldwide Gross  runtime_minutes                    genres  \n",
       "0      $760,507,625  $2,776,345,279             93.0                    Horror  \n",
       "1      $241,063,875  $1,045,663,875            136.0  Action,Adventure,Fantasy  \n",
       "2       $42,762,350    $149,762,350            113.0   Action,Adventure,Sci-Fi  \n",
       "3      $459,005,868  $1,403,013,963            141.0   Action,Adventure,Sci-Fi  \n",
       "4      $678,815,482  $2,048,134,200            149.0   Action,Adventure,Sci-Fi  \n",
       "...             ...             ...              ...                       ...  \n",
       "2979    $41,411,015     $95,127,344             90.0             Drama,Romance  \n",
       "2980    $41,411,015     $95,127,344            100.0           Horror,Thriller  \n",
       "2981    $41,411,015     $95,127,344             92.0      Comedy,Drama,Romance  \n",
       "2982    $27,467,564     $27,936,778            117.0                    Family  \n",
       "2983    $25,138,705     $40,454,520             92.0            Horror,Mystery  \n",
       "\n",
       "[2984 rows x 6 columns]"
      ]
     },
     "execution_count": 14,
     "metadata": {},
     "output_type": "execute_result"
    }
   ],
   "source": [
    "main_df"
   ]
  },
  {
   "cell_type": "code",
   "execution_count": 15,
   "metadata": {},
   "outputs": [],
   "source": [
    "#removing '$' and ',' from financial data\n",
    "main_df[\"Production Budget\"] = main_df[\"Production Budget\"].apply(lambda x: x.strip(\"$\"))\n",
    "main_df[\"Production Budget\"] = main_df[\"Production Budget\"].apply(lambda x: x.replace(\",\",\"\"))\n",
    "main_df[\"Domestic Gross\"] = main_df[\"Domestic Gross\"].apply(lambda x: x.strip(\"$\"))\n",
    "main_df[\"Domestic Gross\"] = main_df[\"Domestic Gross\"].apply(lambda x: x.replace(\",\",\"\"))\n",
    "main_df[\"Worldwide Gross\"] = main_df[\"Worldwide Gross\"].apply(lambda x: x.strip(\"$\"))\n",
    "main_df[\"Worldwide Gross\"] = main_df[\"Worldwide Gross\"].apply(lambda x: x.replace(\",\",\"\"))"
   ]
  },
  {
   "cell_type": "code",
   "execution_count": 16,
   "metadata": {},
   "outputs": [],
   "source": [
    "#converting financial data to type(int)\n",
    "main_df[\"Production Budget\"] = main_df[\"Production Budget\"].astype(int)\n",
    "main_df[\"Domestic Gross\"] = main_df[\"Domestic Gross\"].astype(int)\n",
    "main_df[\"Worldwide Gross\"] = main_df[\"Worldwide Gross\"].astype(int)"
   ]
  },
  {
   "cell_type": "code",
   "execution_count": 17,
   "metadata": {},
   "outputs": [
    {
     "data": {
      "text/html": [
       "<div>\n",
       "<style scoped>\n",
       "    .dataframe tbody tr th:only-of-type {\n",
       "        vertical-align: middle;\n",
       "    }\n",
       "\n",
       "    .dataframe tbody tr th {\n",
       "        vertical-align: top;\n",
       "    }\n",
       "\n",
       "    .dataframe thead th {\n",
       "        text-align: right;\n",
       "    }\n",
       "</style>\n",
       "<table border=\"1\" class=\"dataframe\">\n",
       "  <thead>\n",
       "    <tr style=\"text-align: right;\">\n",
       "      <th></th>\n",
       "      <th>Title</th>\n",
       "      <th>Production Budget</th>\n",
       "      <th>Domestic Gross</th>\n",
       "      <th>Worldwide Gross</th>\n",
       "      <th>runtime_minutes</th>\n",
       "      <th>genres</th>\n",
       "    </tr>\n",
       "  </thead>\n",
       "  <tbody>\n",
       "  </tbody>\n",
       "</table>\n",
       "</div>"
      ],
      "text/plain": [
       "Empty DataFrame\n",
       "Columns: [Title, Production Budget, Domestic Gross, Worldwide Gross, runtime_minutes, genres]\n",
       "Index: []"
      ]
     },
     "execution_count": 17,
     "metadata": {},
     "output_type": "execute_result"
    }
   ],
   "source": [
    "#correcting Avatar runtime & genre\n",
    "main_df.loc[(main_df['Title'] == 'Avatar'), ['runtime_minutes']] = 162\n",
    "main_df.loc[(main_df['Title'] == 'Avatar'), ['genres']] = 'Action, Adventure, Sci-Fi'\n",
    "main_df.loc[(main_df['Title'] == '')]"
   ]
  },
  {
   "cell_type": "code",
   "execution_count": 18,
   "metadata": {},
   "outputs": [],
   "source": [
    "main_df[\"Profit\"] = main_df[\"Worldwide Gross\"] - main_df[\"Production Budget\"] "
   ]
  },
  {
   "cell_type": "code",
   "execution_count": 19,
   "metadata": {},
   "outputs": [],
   "source": [
    "#Adding commas to numbers for clarity\n",
    "# main_df['Production Budget'] = main_df['Production Budget'].apply(lambda x: format(x, '8,d'))\n",
    "# main_df['Domestic Gross'] = main_df['Domestic Gross'].apply(lambda x: format(x, '8,d'))\n",
    "# # main_df['Worldwide Gross'] = main_df['Worldwide Gross'].apply(lambda x: format(x, '8,d'))\n",
    "# main_df['Profit'] = main_df['Profit'].apply(lambda x: format(x, '8,d'))"
   ]
  },
  {
   "cell_type": "code",
   "execution_count": 20,
   "metadata": {},
   "outputs": [],
   "source": [
    "#removing title duplicates\n",
    "main_df = main_df.drop_duplicates(subset=\"Title\", keep=\"first\")"
   ]
  },
  {
   "cell_type": "code",
   "execution_count": 21,
   "metadata": {},
   "outputs": [
    {
     "data": {
      "text/plain": [
       "274"
      ]
     },
     "execution_count": 21,
     "metadata": {},
     "output_type": "execute_result"
    }
   ],
   "source": [
    "main_df[\"genres\"].nunique() #count of unique genres"
   ]
  },
  {
   "cell_type": "code",
   "execution_count": 22,
   "metadata": {},
   "outputs": [],
   "source": [
    "main_df = main_df.sort_values(by=['Profit'], ascending = False)"
   ]
  },
  {
   "cell_type": "code",
   "execution_count": 23,
   "metadata": {},
   "outputs": [
    {
     "data": {
      "text/html": [
       "<div>\n",
       "<style scoped>\n",
       "    .dataframe tbody tr th:only-of-type {\n",
       "        vertical-align: middle;\n",
       "    }\n",
       "\n",
       "    .dataframe tbody tr th {\n",
       "        vertical-align: top;\n",
       "    }\n",
       "\n",
       "    .dataframe thead th {\n",
       "        text-align: right;\n",
       "    }\n",
       "</style>\n",
       "<table border=\"1\" class=\"dataframe\">\n",
       "  <thead>\n",
       "    <tr style=\"text-align: right;\">\n",
       "      <th></th>\n",
       "      <th>Title</th>\n",
       "      <th>Production Budget</th>\n",
       "      <th>Domestic Gross</th>\n",
       "      <th>Worldwide Gross</th>\n",
       "      <th>runtime_minutes</th>\n",
       "      <th>genres</th>\n",
       "      <th>Profit</th>\n",
       "    </tr>\n",
       "  </thead>\n",
       "  <tbody>\n",
       "    <tr>\n",
       "      <td>0</td>\n",
       "      <td>Avatar</td>\n",
       "      <td>425000000</td>\n",
       "      <td>760507625</td>\n",
       "      <td>2776345279</td>\n",
       "      <td>162.0</td>\n",
       "      <td>Action, Adventure, Sci-Fi</td>\n",
       "      <td>2351345279</td>\n",
       "    </tr>\n",
       "    <tr>\n",
       "      <td>40</td>\n",
       "      <td>Titanic</td>\n",
       "      <td>200000000</td>\n",
       "      <td>659363944</td>\n",
       "      <td>2208208395</td>\n",
       "      <td>NaN</td>\n",
       "      <td>Adventure</td>\n",
       "      <td>2008208395</td>\n",
       "    </tr>\n",
       "    <tr>\n",
       "      <td>4</td>\n",
       "      <td>Avengers: Infinity War</td>\n",
       "      <td>300000000</td>\n",
       "      <td>678815482</td>\n",
       "      <td>2048134200</td>\n",
       "      <td>149.0</td>\n",
       "      <td>Action,Adventure,Sci-Fi</td>\n",
       "      <td>1748134200</td>\n",
       "    </tr>\n",
       "    <tr>\n",
       "      <td>25</td>\n",
       "      <td>Jurassic World</td>\n",
       "      <td>215000000</td>\n",
       "      <td>652270625</td>\n",
       "      <td>1648854864</td>\n",
       "      <td>124.0</td>\n",
       "      <td>Action,Adventure,Sci-Fi</td>\n",
       "      <td>1433854864</td>\n",
       "    </tr>\n",
       "    <tr>\n",
       "      <td>65</td>\n",
       "      <td>Furious 7</td>\n",
       "      <td>190000000</td>\n",
       "      <td>353007020</td>\n",
       "      <td>1518722794</td>\n",
       "      <td>137.0</td>\n",
       "      <td>Action,Crime,Thriller</td>\n",
       "      <td>1328722794</td>\n",
       "    </tr>\n",
       "    <tr>\n",
       "      <td>19</td>\n",
       "      <td>The Avengers</td>\n",
       "      <td>225000000</td>\n",
       "      <td>623279547</td>\n",
       "      <td>1517935897</td>\n",
       "      <td>143.0</td>\n",
       "      <td>Action,Adventure,Sci-Fi</td>\n",
       "      <td>1292935897</td>\n",
       "    </tr>\n",
       "    <tr>\n",
       "      <td>39</td>\n",
       "      <td>Black Panther</td>\n",
       "      <td>200000000</td>\n",
       "      <td>700059566</td>\n",
       "      <td>1348258224</td>\n",
       "      <td>134.0</td>\n",
       "      <td>Action,Adventure,Sci-Fi</td>\n",
       "      <td>1148258224</td>\n",
       "    </tr>\n",
       "    <tr>\n",
       "      <td>111</td>\n",
       "      <td>Jurassic World: Fallen Kingdom</td>\n",
       "      <td>170000000</td>\n",
       "      <td>417719760</td>\n",
       "      <td>1305772799</td>\n",
       "      <td>128.0</td>\n",
       "      <td>Action,Adventure,Sci-Fi</td>\n",
       "      <td>1135772799</td>\n",
       "    </tr>\n",
       "    <tr>\n",
       "      <td>151</td>\n",
       "      <td>Frozen</td>\n",
       "      <td>150000000</td>\n",
       "      <td>400738009</td>\n",
       "      <td>1272469910</td>\n",
       "      <td>93.0</td>\n",
       "      <td>Adventure,Drama,Sport</td>\n",
       "      <td>1122469910</td>\n",
       "    </tr>\n",
       "    <tr>\n",
       "      <td>130</td>\n",
       "      <td>Beauty and the Beast</td>\n",
       "      <td>160000000</td>\n",
       "      <td>504014165</td>\n",
       "      <td>1259199706</td>\n",
       "      <td>112.0</td>\n",
       "      <td>Drama,Fantasy,Romance</td>\n",
       "      <td>1099199706</td>\n",
       "    </tr>\n",
       "  </tbody>\n",
       "</table>\n",
       "</div>"
      ],
      "text/plain": [
       "                              Title  Production Budget  Domestic Gross  \\\n",
       "0                            Avatar          425000000       760507625   \n",
       "40                          Titanic          200000000       659363944   \n",
       "4            Avengers: Infinity War          300000000       678815482   \n",
       "25                   Jurassic World          215000000       652270625   \n",
       "65                        Furious 7          190000000       353007020   \n",
       "19                     The Avengers          225000000       623279547   \n",
       "39                    Black Panther          200000000       700059566   \n",
       "111  Jurassic World: Fallen Kingdom          170000000       417719760   \n",
       "151                          Frozen          150000000       400738009   \n",
       "130            Beauty and the Beast          160000000       504014165   \n",
       "\n",
       "     Worldwide Gross  runtime_minutes                     genres      Profit  \n",
       "0         2776345279            162.0  Action, Adventure, Sci-Fi  2351345279  \n",
       "40        2208208395              NaN                  Adventure  2008208395  \n",
       "4         2048134200            149.0    Action,Adventure,Sci-Fi  1748134200  \n",
       "25        1648854864            124.0    Action,Adventure,Sci-Fi  1433854864  \n",
       "65        1518722794            137.0      Action,Crime,Thriller  1328722794  \n",
       "19        1517935897            143.0    Action,Adventure,Sci-Fi  1292935897  \n",
       "39        1348258224            134.0    Action,Adventure,Sci-Fi  1148258224  \n",
       "111       1305772799            128.0    Action,Adventure,Sci-Fi  1135772799  \n",
       "151       1272469910             93.0      Adventure,Drama,Sport  1122469910  \n",
       "130       1259199706            112.0      Drama,Fantasy,Romance  1099199706  "
      ]
     },
     "execution_count": 23,
     "metadata": {},
     "output_type": "execute_result"
    }
   ],
   "source": [
    "main_df.head(10)"
   ]
  },
  {
   "cell_type": "code",
   "execution_count": 67,
   "metadata": {},
   "outputs": [],
   "source": [
    "freq_genres = main_df['genres'].value_counts()\n",
    "freq_genres_list = list(freq_genres.head(12).keys())\n"
   ]
  },
  {
   "cell_type": "code",
   "execution_count": 94,
   "metadata": {},
   "outputs": [
    {
     "name": "stdout",
     "output_type": "stream",
     "text": [
      "<class 'pandas.core.frame.DataFrame'>\n",
      "<class 'pandas.core.frame.DataFrame'>\n",
      "<class 'pandas.core.frame.DataFrame'>\n",
      "<class 'pandas.core.frame.DataFrame'>\n",
      "<class 'pandas.core.frame.DataFrame'>\n",
      "<class 'pandas.core.frame.DataFrame'>\n",
      "<class 'pandas.core.frame.DataFrame'>\n",
      "<class 'pandas.core.frame.DataFrame'>\n",
      "<class 'pandas.core.frame.DataFrame'>\n",
      "<class 'pandas.core.frame.DataFrame'>\n",
      "<class 'pandas.core.frame.DataFrame'>\n",
      "<class 'pandas.core.frame.DataFrame'>\n"
     ]
    }
   ],
   "source": [
    "main_df_genres = []\n",
    "for n in freq_genres_list:\n",
    "    main_df_genres.append(main_df.loc[(main_df['genres'] == n)])\n",
    "    print(type(main_df.loc[(main_df['genres'] == n)]))"
   ]
  },
  {
   "cell_type": "code",
   "execution_count": 98,
   "metadata": {},
   "outputs": [],
   "source": [
    "main_df_genres = pd.concat(main_df_genres)"
   ]
  },
  {
   "cell_type": "code",
   "execution_count": 99,
   "metadata": {},
   "outputs": [],
   "source": [
    "genres_profit = main_df_genres.groupby(main_df['genres']).mean()"
   ]
  },
  {
   "cell_type": "code",
   "execution_count": 100,
   "metadata": {},
   "outputs": [
    {
     "data": {
      "text/html": [
       "<div>\n",
       "<style scoped>\n",
       "    .dataframe tbody tr th:only-of-type {\n",
       "        vertical-align: middle;\n",
       "    }\n",
       "\n",
       "    .dataframe tbody tr th {\n",
       "        vertical-align: top;\n",
       "    }\n",
       "\n",
       "    .dataframe thead th {\n",
       "        text-align: right;\n",
       "    }\n",
       "</style>\n",
       "<table border=\"1\" class=\"dataframe\">\n",
       "  <thead>\n",
       "    <tr style=\"text-align: right;\">\n",
       "      <th></th>\n",
       "      <th>Production Budget</th>\n",
       "      <th>Domestic Gross</th>\n",
       "      <th>Worldwide Gross</th>\n",
       "      <th>runtime_minutes</th>\n",
       "      <th>Profit</th>\n",
       "    </tr>\n",
       "    <tr>\n",
       "      <th>genres</th>\n",
       "      <th></th>\n",
       "      <th></th>\n",
       "      <th></th>\n",
       "      <th></th>\n",
       "      <th></th>\n",
       "    </tr>\n",
       "  </thead>\n",
       "  <tbody>\n",
       "    <tr>\n",
       "      <td>Action,Adventure,Sci-Fi</td>\n",
       "      <td>1.710679e+08</td>\n",
       "      <td>2.373537e+08</td>\n",
       "      <td>6.467493e+08</td>\n",
       "      <td>128.886792</td>\n",
       "      <td>4.756814e+08</td>\n",
       "    </tr>\n",
       "    <tr>\n",
       "      <td>Adventure,Animation,Comedy</td>\n",
       "      <td>9.954478e+07</td>\n",
       "      <td>1.310798e+08</td>\n",
       "      <td>3.720696e+08</td>\n",
       "      <td>93.507463</td>\n",
       "      <td>2.725248e+08</td>\n",
       "    </tr>\n",
       "    <tr>\n",
       "      <td>Action,Adventure,Fantasy</td>\n",
       "      <td>1.415886e+08</td>\n",
       "      <td>1.205571e+08</td>\n",
       "      <td>3.768989e+08</td>\n",
       "      <td>116.235294</td>\n",
       "      <td>2.353104e+08</td>\n",
       "    </tr>\n",
       "    <tr>\n",
       "      <td>Comedy,Romance</td>\n",
       "      <td>2.875278e+07</td>\n",
       "      <td>5.424371e+07</td>\n",
       "      <td>1.002916e+08</td>\n",
       "      <td>105.542857</td>\n",
       "      <td>7.153881e+07</td>\n",
       "    </tr>\n",
       "    <tr>\n",
       "      <td>Documentary</td>\n",
       "      <td>3.116981e+07</td>\n",
       "      <td>4.714391e+07</td>\n",
       "      <td>8.702691e+07</td>\n",
       "      <td>70.760870</td>\n",
       "      <td>5.585710e+07</td>\n",
       "    </tr>\n",
       "    <tr>\n",
       "      <td>Drama,Romance</td>\n",
       "      <td>2.400938e+07</td>\n",
       "      <td>2.928382e+07</td>\n",
       "      <td>6.741534e+07</td>\n",
       "      <td>108.727273</td>\n",
       "      <td>4.340597e+07</td>\n",
       "    </tr>\n",
       "    <tr>\n",
       "      <td>Comedy</td>\n",
       "      <td>3.143968e+07</td>\n",
       "      <td>4.153693e+07</td>\n",
       "      <td>7.340865e+07</td>\n",
       "      <td>98.181818</td>\n",
       "      <td>4.196897e+07</td>\n",
       "    </tr>\n",
       "    <tr>\n",
       "      <td>Comedy,Drama,Romance</td>\n",
       "      <td>2.004419e+07</td>\n",
       "      <td>3.120806e+07</td>\n",
       "      <td>5.829221e+07</td>\n",
       "      <td>104.666667</td>\n",
       "      <td>3.824802e+07</td>\n",
       "    </tr>\n",
       "    <tr>\n",
       "      <td>Comedy,Drama</td>\n",
       "      <td>1.998689e+07</td>\n",
       "      <td>3.303278e+07</td>\n",
       "      <td>5.198021e+07</td>\n",
       "      <td>103.610169</td>\n",
       "      <td>3.199333e+07</td>\n",
       "    </tr>\n",
       "    <tr>\n",
       "      <td>Action,Crime,Drama</td>\n",
       "      <td>2.684091e+07</td>\n",
       "      <td>3.099056e+07</td>\n",
       "      <td>5.823486e+07</td>\n",
       "      <td>110.166667</td>\n",
       "      <td>3.139395e+07</td>\n",
       "    </tr>\n",
       "    <tr>\n",
       "      <td>Drama,Thriller</td>\n",
       "      <td>2.184667e+07</td>\n",
       "      <td>2.810209e+07</td>\n",
       "      <td>5.282354e+07</td>\n",
       "      <td>110.642857</td>\n",
       "      <td>3.097687e+07</td>\n",
       "    </tr>\n",
       "    <tr>\n",
       "      <td>Drama</td>\n",
       "      <td>2.601250e+07</td>\n",
       "      <td>3.032295e+07</td>\n",
       "      <td>5.323020e+07</td>\n",
       "      <td>102.252336</td>\n",
       "      <td>2.721770e+07</td>\n",
       "    </tr>\n",
       "  </tbody>\n",
       "</table>\n",
       "</div>"
      ],
      "text/plain": [
       "                            Production Budget  Domestic Gross  \\\n",
       "genres                                                          \n",
       "Action,Adventure,Sci-Fi          1.710679e+08    2.373537e+08   \n",
       "Adventure,Animation,Comedy       9.954478e+07    1.310798e+08   \n",
       "Action,Adventure,Fantasy         1.415886e+08    1.205571e+08   \n",
       "Comedy,Romance                   2.875278e+07    5.424371e+07   \n",
       "Documentary                      3.116981e+07    4.714391e+07   \n",
       "Drama,Romance                    2.400938e+07    2.928382e+07   \n",
       "Comedy                           3.143968e+07    4.153693e+07   \n",
       "Comedy,Drama,Romance             2.004419e+07    3.120806e+07   \n",
       "Comedy,Drama                     1.998689e+07    3.303278e+07   \n",
       "Action,Crime,Drama               2.684091e+07    3.099056e+07   \n",
       "Drama,Thriller                   2.184667e+07    2.810209e+07   \n",
       "Drama                            2.601250e+07    3.032295e+07   \n",
       "\n",
       "                            Worldwide Gross  runtime_minutes        Profit  \n",
       "genres                                                                      \n",
       "Action,Adventure,Sci-Fi        6.467493e+08       128.886792  4.756814e+08  \n",
       "Adventure,Animation,Comedy     3.720696e+08        93.507463  2.725248e+08  \n",
       "Action,Adventure,Fantasy       3.768989e+08       116.235294  2.353104e+08  \n",
       "Comedy,Romance                 1.002916e+08       105.542857  7.153881e+07  \n",
       "Documentary                    8.702691e+07        70.760870  5.585710e+07  \n",
       "Drama,Romance                  6.741534e+07       108.727273  4.340597e+07  \n",
       "Comedy                         7.340865e+07        98.181818  4.196897e+07  \n",
       "Comedy,Drama,Romance           5.829221e+07       104.666667  3.824802e+07  \n",
       "Comedy,Drama                   5.198021e+07       103.610169  3.199333e+07  \n",
       "Action,Crime,Drama             5.823486e+07       110.166667  3.139395e+07  \n",
       "Drama,Thriller                 5.282354e+07       110.642857  3.097687e+07  \n",
       "Drama                          5.323020e+07       102.252336  2.721770e+07  "
      ]
     },
     "execution_count": 100,
     "metadata": {},
     "output_type": "execute_result"
    }
   ],
   "source": [
    "genres_profit = genres_profit.sort_values(by='Profit',ascending=False)\n",
    "genres_profit"
   ]
  },
  {
   "cell_type": "code",
   "execution_count": null,
   "metadata": {},
   "outputs": [],
   "source": [
    "pd.set_option('display.max_rows', None)\n",
    "pd.set_option('display.max_columns', None)\n",
    "pd.set_option('display.width', None)\n",
    "pd.set_option('display.max_colwidth', -1)\n",
    "len(genres_profit)"
   ]
  },
  {
   "cell_type": "code",
   "execution_count": null,
   "metadata": {},
   "outputs": [],
   "source": [
    "genres_profit = genres_profit.sort_values(by=['Profit'], ascending = False)"
   ]
  },
  {
   "cell_type": "code",
   "execution_count": null,
   "metadata": {},
   "outputs": [],
   "source": [
    "genre_counts = main_df1['genres'].value_counts()"
   ]
  },
  {
   "cell_type": "code",
   "execution_count": null,
   "metadata": {},
   "outputs": [],
   "source": [
    "genre_counts.head(10)"
   ]
  },
  {
   "cell_type": "code",
   "execution_count": null,
   "metadata": {},
   "outputs": [],
   "source": [
    "# main_df1 #we are treating worldwide gross as revenue (although it is only one component if revenue, aka the direct sales to retailer and consumers. also we are treating production budget as total expense when there is also marketing budget..ect. )"
   ]
  },
  {
   "cell_type": "code",
   "execution_count": null,
   "metadata": {},
   "outputs": [],
   "source": [
    "#can create a histogram\n",
    "#set unique words = 0 then iterate =+1\n",
    "#use contains, startwith, endwith"
   ]
  },
  {
   "cell_type": "code",
   "execution_count": null,
   "metadata": {},
   "outputs": [],
   "source": [
    "main_df1= main_df = main_df.dropna(subset=['runtime_minutes'])"
   ]
  },
  {
   "cell_type": "code",
   "execution_count": null,
   "metadata": {},
   "outputs": [],
   "source": [
    "main_df1"
   ]
  },
  {
   "cell_type": "code",
   "execution_count": null,
   "metadata": {},
   "outputs": [],
   "source": [
    "main_df.dropna() #removing null values row to keep our data consistent"
   ]
  },
  {
   "cell_type": "code",
   "execution_count": null,
   "metadata": {},
   "outputs": [],
   "source": [
    "# main_df1 = main_df1.groupby('genres')"
   ]
  },
  {
   "cell_type": "code",
   "execution_count": null,
   "metadata": {},
   "outputs": [],
   "source": [
    "# print(main_df1)"
   ]
  },
  {
   "cell_type": "code",
   "execution_count": null,
   "metadata": {},
   "outputs": [],
   "source": [
    "main_"
   ]
  },
  {
   "cell_type": "code",
   "execution_count": null,
   "metadata": {
    "scrolled": true
   },
   "outputs": [],
   "source": [
    "grouped_df = main_df1.groupby(['genres']).mean()"
   ]
  },
  {
   "cell_type": "code",
   "execution_count": null,
   "metadata": {},
   "outputs": [],
   "source": [
    "grouped_df.sort_values(by=['Profit'], ascending = False)"
   ]
  },
  {
   "cell_type": "code",
   "execution_count": null,
   "metadata": {},
   "outputs": [],
   "source": [
    "#how to remove columns with negative values"
   ]
  },
  {
   "cell_type": "code",
   "execution_count": null,
   "metadata": {},
   "outputs": [],
   "source": []
  }
 ],
 "metadata": {
  "kernelspec": {
   "display_name": "Python 3",
   "language": "python",
   "name": "python3"
  },
  "language_info": {
   "codemirror_mode": {
    "name": "ipython",
    "version": 3
   },
   "file_extension": ".py",
   "mimetype": "text/x-python",
   "name": "python",
   "nbconvert_exporter": "python",
   "pygments_lexer": "ipython3",
   "version": "3.7.4"
  }
 },
 "nbformat": 4,
 "nbformat_minor": 4
}
