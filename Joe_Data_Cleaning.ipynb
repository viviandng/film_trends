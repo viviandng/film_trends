{
 "cells": [
  {
   "cell_type": "code",
   "execution_count": 1,
   "metadata": {},
   "outputs": [],
   "source": [
    "import pandas as pd\n",
    "import numpy as np\n",
    "import matplotlib.pyplot as plt\n",
    "pd.set_option('display.max_rows', None)\n",
    "pd.set_option('display.max_columns', None)\n",
    "pd.set_option('display.width', None)\n",
    "pd.set_option('display.max_colwidth', -1)"
   ]
  },
  {
   "cell_type": "code",
   "execution_count": 2,
   "metadata": {},
   "outputs": [
    {
     "name": "stdout",
     "output_type": "stream",
     "text": [
      "/Users/josephmchugh/code/flatiron-project-1/zippedData\n"
     ]
    }
   ],
   "source": [
    "cd zippedData/"
   ]
  },
  {
   "cell_type": "code",
   "execution_count": 3,
   "metadata": {},
   "outputs": [],
   "source": [
    "#importing datasets\n",
    "movie_gross = pd.read_csv('bom.movie_gross.csv.gz')\n",
    "name_basics = pd.read_csv('imdb.name.basics.csv.gz')\n",
    "title_akas = pd.read_csv('imdb.title.akas.csv.gz')\n",
    "title_basics = pd.read_csv('imdb.title.basics.csv.gz')\n",
    "title_crew = pd.read_csv('imdb.title.crew.csv.gz')\n",
    "title_principles = pd.read_csv('imdb.title.principals.csv.gz')\n",
    "title_ratings = pd.read_csv('imdb.title.ratings.csv.gz')\n",
    "rt_movie_info = pd.read_csv('rt.movie_info.tsv.gz', sep='\\t')\n",
    "rt_reviews = pd.read_csv('rt.reviews.tsv.gz', sep='\\t', encoding = 'unicode_escape')\n",
    "tmdb_movies = pd.read_csv('tmdb.movies.csv.gz')\n",
    "movie_budgets = pd.read_csv('tn.movie_budgets.csv.gz')"
   ]
  },
  {
   "cell_type": "code",
   "execution_count": 4,
   "metadata": {},
   "outputs": [],
   "source": [
    "#creating main dataframe\n",
    "main_df = pd.DataFrame(movie_budgets['movie'])"
   ]
  },
  {
   "cell_type": "code",
   "execution_count": 5,
   "metadata": {},
   "outputs": [],
   "source": [
    "#populating main dataframe from 'movie_budgets' dataset\n",
    "main_df['Production Budget'] = movie_budgets['production_budget']\n",
    "main_df['Domestic Gross'] = movie_budgets['domestic_gross']\n",
    "main_df['Worldwide Gross'] = movie_budgets['worldwide_gross']"
   ]
  },
  {
   "cell_type": "code",
   "execution_count": 6,
   "metadata": {},
   "outputs": [],
   "source": [
    "#renaming columns\n",
    "main_df = main_df.rename(columns={'movie':'Title'})\n",
    "title_basics = title_basics.rename(columns={'primary_title': 'Title'})"
   ]
  },
  {
   "cell_type": "code",
   "execution_count": 7,
   "metadata": {},
   "outputs": [],
   "source": [
    "#merging 'title_baiscs' dataset with main dataframe\n",
    "main_df = pd.merge(main_df, title_basics, how='outer', on='Title')"
   ]
  },
  {
   "cell_type": "code",
   "execution_count": 8,
   "metadata": {},
   "outputs": [],
   "source": [
    "#trimming size of dataframe to first 5782 rows (number of rows with financial data)\n",
    "main_df = main_df.head(5782)"
   ]
  },
  {
   "cell_type": "code",
   "execution_count": 9,
   "metadata": {},
   "outputs": [],
   "source": [
    "#dropping uneccessary columns\n",
    "main_df = main_df.drop(columns = ['tconst','original_title','start_year'])"
   ]
  },
  {
   "cell_type": "code",
   "execution_count": 10,
   "metadata": {},
   "outputs": [],
   "source": [
    "#dropping null values from 'genres column'\n",
    "main_df = main_df.dropna(subset=['genres'])"
   ]
  },
  {
   "cell_type": "code",
   "execution_count": 11,
   "metadata": {},
   "outputs": [],
   "source": [
    "#resetting the index\n",
    "main_df = main_df.reset_index()"
   ]
  },
  {
   "cell_type": "code",
   "execution_count": 12,
   "metadata": {},
   "outputs": [],
   "source": [
    "#dropping old index \n",
    "main_df = main_df.drop(columns = ['index'])"
   ]
  },
  {
   "cell_type": "code",
   "execution_count": 13,
   "metadata": {},
   "outputs": [],
   "source": [
    "#removing '$' and ',' from financial data\n",
    "main_df[\"Production Budget\"] = main_df[\"Production Budget\"].apply(lambda x: x.strip(\"$\"))\n",
    "main_df[\"Production Budget\"] = main_df[\"Production Budget\"].apply(lambda x: x.replace(\",\",\"\"))\n",
    "main_df[\"Domestic Gross\"] = main_df[\"Domestic Gross\"].apply(lambda x: x.strip(\"$\"))\n",
    "main_df[\"Domestic Gross\"] = main_df[\"Domestic Gross\"].apply(lambda x: x.replace(\",\",\"\"))\n",
    "main_df[\"Worldwide Gross\"] = main_df[\"Worldwide Gross\"].apply(lambda x: x.strip(\"$\"))\n",
    "main_df[\"Worldwide Gross\"] = main_df[\"Worldwide Gross\"].apply(lambda x: x.replace(\",\",\"\"))"
   ]
  },
  {
   "cell_type": "code",
   "execution_count": 14,
   "metadata": {},
   "outputs": [],
   "source": [
    "#converting financial data to type(int)\n",
    "main_df[\"Production Budget\"] = main_df[\"Production Budget\"].astype(int)\n",
    "main_df[\"Domestic Gross\"] = main_df[\"Domestic Gross\"].astype(int)\n",
    "main_df[\"Worldwide Gross\"] = main_df[\"Worldwide Gross\"].astype(int)"
   ]
  },
  {
   "cell_type": "code",
   "execution_count": 15,
   "metadata": {},
   "outputs": [],
   "source": [
    "#correcting Avatar runtime & genre\n",
    "main_df.loc[(main_df['Title'] == 'Avatar'), ['runtime_minutes']] = 162\n",
    "main_df.loc[(main_df['Title'] == 'Avatar'), ['genres']] = 'Action, Adventure, Sci-Fi'"
   ]
  },
  {
   "cell_type": "code",
   "execution_count": 16,
   "metadata": {},
   "outputs": [],
   "source": [
    "main_df[\"Profit\"] = main_df[\"Worldwide Gross\"] - main_df[\"Production Budget\"] "
   ]
  },
  {
   "cell_type": "code",
   "execution_count": 17,
   "metadata": {},
   "outputs": [],
   "source": [
    "#Adding commas to numbers for clarity\n",
    "# main_df['Production Budget'] = main_df['Production Budget'].apply(lambda x: format(x, '8,d'))\n",
    "# main_df['Domestic Gross'] = main_df['Domestic Gross'].apply(lambda x: format(x, '8,d'))\n",
    "# # main_df['Worldwide Gross'] = main_df['Worldwide Gross'].apply(lambda x: format(x, '8,d'))\n",
    "# main_df['Profit'] = main_df['Profit'].apply(lambda x: format(x, '8,d'))"
   ]
  },
  {
   "cell_type": "code",
   "execution_count": 18,
   "metadata": {},
   "outputs": [],
   "source": [
    "#removing title duplicates\n",
    "main_df = main_df.drop_duplicates(subset=\"Title\", keep=\"first\")"
   ]
  },
  {
   "cell_type": "code",
   "execution_count": 19,
   "metadata": {},
   "outputs": [
    {
     "data": {
      "text/plain": [
       "274"
      ]
     },
     "execution_count": 19,
     "metadata": {},
     "output_type": "execute_result"
    }
   ],
   "source": [
    "#ascertaining number of unique genres\n",
    "main_df[\"genres\"].nunique() "
   ]
  },
  {
   "cell_type": "code",
   "execution_count": 20,
   "metadata": {},
   "outputs": [],
   "source": [
    "main_df = main_df.sort_values(by=['Profit'], ascending = False)"
   ]
  },
  {
   "cell_type": "code",
   "execution_count": 21,
   "metadata": {},
   "outputs": [],
   "source": [
    "freq_genres = main_df['genres'].value_counts()\n",
    "freq_genres_list = list(freq_genres.head(12).keys())"
   ]
  },
  {
   "cell_type": "code",
   "execution_count": 22,
   "metadata": {},
   "outputs": [],
   "source": [
    "main_df_genres = []\n",
    "for n in freq_genres_list:\n",
    "    main_df_genres.append(main_df.loc[(main_df['genres'] == n)])"
   ]
  },
  {
   "cell_type": "code",
   "execution_count": 23,
   "metadata": {},
   "outputs": [],
   "source": [
    "main_df_genres = pd.concat(main_df_genres)"
   ]
  },
  {
   "cell_type": "code",
   "execution_count": 24,
   "metadata": {},
   "outputs": [],
   "source": [
    "genres_profit = main_df_genres.groupby(main_df['genres']).mean()"
   ]
  },
  {
   "cell_type": "code",
   "execution_count": 25,
   "metadata": {},
   "outputs": [],
   "source": [
    "genres_profit = genres_profit.sort_values(by='Profit',ascending=False)"
   ]
  },
  {
   "cell_type": "code",
   "execution_count": 26,
   "metadata": {},
   "outputs": [],
   "source": [
    "main_df = main_df.dropna(subset=['runtime_minutes'])"
   ]
  },
  {
   "cell_type": "code",
   "execution_count": 27,
   "metadata": {},
   "outputs": [
    {
     "data": {
      "image/png": "[encoded data removed]",
      "text/plain": [
       "<Figure size 720x432 with 1 Axes>"
      ]
     },
     "metadata": {
      "needs_background": "light"
     },
     "output_type": "display_data"
    }
   ],
   "source": [
    "import matplotlib.pyplot as plt\n",
    "%matplotlib inline\n",
    "\n",
    "x = genres_profit.index\n",
    "y = genres_profit['Profit']\n",
    "\n",
    "fig = plt.figure(figsize=(10, 6))\n",
    "ax = plt.subplot()\n",
    "\n",
    "plt.bar(x,y)\n",
    "\n",
    "ax.set_xticks(range(len(x)))\n",
    "ax.set_xticklabels(x)\n",
    "plt.xticks(rotation=90)\n",
    "plt.title('Mean Profit by Genre')\n",
    "plt.xlabel('Genres')\n",
    "plt.ylabel('Profit (Hundreds of Millions)')\n",
    "plt.show()"
   ]
  },
  {
   "cell_type": "code",
   "execution_count": 28,
   "metadata": {},
   "outputs": [],
   "source": [
    "act_adv_sci = main_df.loc[(main_df['genres'] == 'Action,Adventure,Sci-Fi'),['Title','Production Budget','Domestic Gross','Worldwide Gross','runtime_minutes','Profit']]"
   ]
  },
  {
   "cell_type": "code",
   "execution_count": 29,
   "metadata": {},
   "outputs": [],
   "source": [
    "act_adv_sci = act_adv_sci.reset_index()\n",
    "act_adv_sci = act_adv_sci.drop(columns=['index'])"
   ]
  },
  {
   "cell_type": "code",
   "execution_count": 30,
   "metadata": {},
   "outputs": [],
   "source": [
    "act_adv_sci = act_adv_sci.sort_values(by = 'Profit', ascending = True)"
   ]
  },
  {
   "cell_type": "code",
   "execution_count": 31,
   "metadata": {},
   "outputs": [],
   "source": [
    "import math\n",
    "\n",
    "def mean_normalize(var):\n",
    "    norm = []\n",
    "    mean = sum(var)/len(var)\n",
    "    for i in var:\n",
    "        diff = i - mean\n",
    "        norm.append(diff)\n",
    "    return norm\n",
    "\n",
    "def dot_product(x, y):\n",
    "\n",
    "    prod_vec = 0 \n",
    "    for i in range(len(x)):\n",
    "        prod = x[i]* y[i]\n",
    "        prod_vec += prod\n",
    "    return prod_vec\n",
    "\n",
    "def correlation(var1, var2):\n",
    "    if len(var1) != len(var2):\n",
    "        return 'The lengths of both the lists should be equal.' \n",
    "    else: \n",
    "        mean_norm_var1 = mean_normalize(var1)\n",
    "        mean_norm_var2 = mean_normalize(var2)\n",
    "        var1_dot_var2 = dot_product(mean_norm_var1, mean_norm_var2)\n",
    "        var1_squared = [i * i for i in mean_norm_var1]\n",
    "        var2_squared = [i * i for i in mean_norm_var2]\n",
    "    return round(var1_dot_var2 / math.sqrt(sum(var1_squared) * sum(var2_squared)), 2)"
   ]
  },
  {
   "cell_type": "code",
   "execution_count": 46,
   "metadata": {},
   "outputs": [
    {
     "data": {
      "image/png": "[encoded data removed]",
      "text/plain": [
       "<Figure size 1080x720 with 1 Axes>"
      ]
     },
     "metadata": {
      "needs_background": "light"
     },
     "output_type": "display_data"
    },
    {
     "data": {
      "text/plain": [
       "0.57"
      ]
     },
     "execution_count": 46,
     "metadata": {},
     "output_type": "execute_result"
    }
   ],
   "source": [
    "import numpy as np\n",
    "from statistics import mean\n",
    "import numpy as np\n",
    "\n",
    "xs = np.array(act_adv_sci['runtime_minutes'], dtype=np.float64)\n",
    "ys = np.array((act_adv_sci['Profit']), dtype=np.float64)\n",
    "\n",
    "def best_fit_slope_and_intercept(xs,ys):\n",
    "    m = (((mean(xs)*mean(ys)) - mean(xs*ys)) /\n",
    "         ((mean(xs)*mean(xs)) - mean(xs*xs)))\n",
    "    b = mean(ys) - m*mean(xs)\n",
    "    return m, b\n",
    "\n",
    "m, b = best_fit_slope_and_intercept(xs,ys)\n",
    "regression_line = [(m*x)+b for x in xs]\n",
    "\n",
    "x = act_adv_sci['runtime_minutes']\n",
    "y = (act_adv_sci['Profit'])\n",
    "fig = plt.figure(figsize=(15, 10))\n",
    "ax = plt.subplot()\n",
    "plt.plot(xs,regression_line, 'r')\n",
    "# Plot\n",
    "plt.scatter(x, y)\n",
    "plt.title('Profit Vs Runtime')\n",
    "plt.xlabel('Runtime (Minutes)')\n",
    "plt.ylabel('Profit (Hundreds of Millions)')\n",
    "plt.show()\n",
    "correlation(x,y)"
   ]
  },
  {
   "cell_type": "code",
   "execution_count": null,
   "metadata": {},
   "outputs": [],
   "source": [
    "xs = np.array(act_adv_sci['Production Budget'], dtype=np.float64)\n",
    "ys = np.array(act_adv_sci['Worldwide Gross'], dtype=np.float64)\n",
    "\n",
    "m, b = best_fit_slope_and_intercept(xs,ys)\n",
    "regression_line = [(m*x)+b for x in xs]\n",
    "\n",
    "fig = plt.figure(figsize=(15, 10))\n",
    "ax = plt.subplot()\n",
    "plt.plot(xs,regression_line, 'r') \n",
    "ax.set_title('Production Budget Vs Worldwide Gross')\n",
    "ax.set_xlabel('Production Budget (Tens of Millions)')\n",
    "ax.set_ylabel('Worldwide Gross (Hundreds of Millions)')\n",
    " \n",
    "x = act_adv_sci['Production Budget']\n",
    "y = act_adv_sci['Worldwide Gross']\n",
    " \n",
    "ax.scatter(x, y)\n",
    "plt.show()\n",
    "correlation(x,y)"
   ]
  },
  {
   "cell_type": "code",
   "execution_count": null,
   "metadata": {},
   "outputs": [],
   "source": [
    "xs = np.array(act_adv_sci['Production Budget'], dtype=np.float64)\n",
    "ys = np.array(act_adv_sci['Profit'], dtype=np.float64)\n",
    "\n",
    "m, b = best_fit_slope_and_intercept(xs,ys)\n",
    "regression_line = [(m*x)+b for x in xs]\n",
    "\n",
    "fig = plt.figure(figsize=(15, 10))\n",
    "ax = plt.subplot()\n",
    "plt.plot(xs,regression_line, 'r') \n",
    "ax.set_title('Production Budget Vs Profit')\n",
    "ax.set_xlabel('Production Budget (Tens of Millions)')\n",
    "ax.set_ylabel('Profit (Hundreds of Millions)')\n",
    " \n",
    "x = act_adv_sci['Production Budget']\n",
    "y = act_adv_sci['Profit']\n",
    " \n",
    "ax.scatter(x, y)\n",
    "plt.show()\n",
    "correlation(x,y)"
   ]
  }
 ],
 "metadata": {
  "kernelspec": {
   "display_name": "Python 3",
   "language": "python",
   "name": "python3"
  },
  "language_info": {
   "codemirror_mode": {
    "name": "ipython",
    "version": 3
   },
   "file_extension": ".py",
   "mimetype": "text/x-python",
   "name": "python",
   "nbconvert_exporter": "python",
   "pygments_lexer": "ipython3",
   "version": "3.7.4"
  }
 },
 "nbformat": 4,
 "nbformat_minor": 4
}
